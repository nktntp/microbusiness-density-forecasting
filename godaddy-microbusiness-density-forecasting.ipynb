{
 "cells": [
  {
   "cell_type": "code",
   "execution_count": 1,
   "id": "80879f24",
   "metadata": {
    "_cell_guid": "b1076dfc-b9ad-4769-8c92-a6c4dae69d19",
    "_uuid": "8f2839f25d086af736a60e9eeb907d3b93b6e0e5",
    "execution": {
     "iopub.execute_input": "2023-01-20T22:55:49.145639Z",
     "iopub.status.busy": "2023-01-20T22:55:49.144783Z",
     "iopub.status.idle": "2023-01-20T22:55:50.302125Z",
     "shell.execute_reply": "2023-01-20T22:55:50.300875Z"
    },
    "papermill": {
     "duration": 1.167252,
     "end_time": "2023-01-20T22:55:50.305050",
     "exception": false,
     "start_time": "2023-01-20T22:55:49.137798",
     "status": "completed"
    },
    "tags": []
   },
   "outputs": [],
   "source": [
    "import pandas as pd\n",
    "import numpy as np\n",
    "import matplotlib.pyplot as plt\n",
    "from sklearn.linear_model import LinearRegression"
   ]
  },
  {
   "cell_type": "code",
   "execution_count": 2,
   "id": "623f73ff",
   "metadata": {
    "execution": {
     "iopub.execute_input": "2023-01-20T22:55:50.314776Z",
     "iopub.status.busy": "2023-01-20T22:55:50.314313Z",
     "iopub.status.idle": "2023-01-20T22:55:50.666016Z",
     "shell.execute_reply": "2023-01-20T22:55:50.664831Z"
    },
    "papermill": {
     "duration": 0.359637,
     "end_time": "2023-01-20T22:55:50.668802",
     "exception": false,
     "start_time": "2023-01-20T22:55:50.309165",
     "status": "completed"
    },
    "tags": []
   },
   "outputs": [],
   "source": [
    "DIR_PATH = \"../input/godaddy-microbusiness-density-forecasting/\"\n",
    "\n",
    "train = pd.read_csv(DIR_PATH + \"train.csv\")\n",
    "test = pd.read_csv(DIR_PATH + \"test.csv\")"
   ]
  },
  {
   "cell_type": "code",
   "execution_count": 3,
   "id": "7e6adb55",
   "metadata": {
    "execution": {
     "iopub.execute_input": "2023-01-20T22:55:50.678209Z",
     "iopub.status.busy": "2023-01-20T22:55:50.677745Z",
     "iopub.status.idle": "2023-01-20T22:55:50.726640Z",
     "shell.execute_reply": "2023-01-20T22:55:50.725416Z"
    },
    "papermill": {
     "duration": 0.057546,
     "end_time": "2023-01-20T22:55:50.730191",
     "exception": false,
     "start_time": "2023-01-20T22:55:50.672645",
     "status": "completed"
    },
    "tags": []
   },
   "outputs": [
    {
     "name": "stdout",
     "output_type": "stream",
     "text": [
      "<class 'pandas.core.frame.DataFrame'>\n",
      "RangeIndex: 122265 entries, 0 to 122264\n",
      "Data columns (total 7 columns):\n",
      " #   Column                 Non-Null Count   Dtype  \n",
      "---  ------                 --------------   -----  \n",
      " 0   row_id                 122265 non-null  object \n",
      " 1   cfips                  122265 non-null  int64  \n",
      " 2   county                 122265 non-null  object \n",
      " 3   state                  122265 non-null  object \n",
      " 4   first_day_of_month     122265 non-null  object \n",
      " 5   microbusiness_density  122265 non-null  float64\n",
      " 6   active                 122265 non-null  int64  \n",
      "dtypes: float64(1), int64(2), object(4)\n",
      "memory usage: 6.5+ MB\n"
     ]
    }
   ],
   "source": [
    "train.info()"
   ]
  },
  {
   "cell_type": "code",
   "execution_count": 4,
   "id": "8037e938",
   "metadata": {
    "execution": {
     "iopub.execute_input": "2023-01-20T22:55:50.740261Z",
     "iopub.status.busy": "2023-01-20T22:55:50.739805Z",
     "iopub.status.idle": "2023-01-20T22:55:50.760695Z",
     "shell.execute_reply": "2023-01-20T22:55:50.759422Z"
    },
    "papermill": {
     "duration": 0.028445,
     "end_time": "2023-01-20T22:55:50.763154",
     "exception": false,
     "start_time": "2023-01-20T22:55:50.734709",
     "status": "completed"
    },
    "tags": []
   },
   "outputs": [
    {
     "data": {
      "text/html": [
       "<div>\n",
       "<style scoped>\n",
       "    .dataframe tbody tr th:only-of-type {\n",
       "        vertical-align: middle;\n",
       "    }\n",
       "\n",
       "    .dataframe tbody tr th {\n",
       "        vertical-align: top;\n",
       "    }\n",
       "\n",
       "    .dataframe thead th {\n",
       "        text-align: right;\n",
       "    }\n",
       "</style>\n",
       "<table border=\"1\" class=\"dataframe\">\n",
       "  <thead>\n",
       "    <tr style=\"text-align: right;\">\n",
       "      <th></th>\n",
       "      <th>row_id</th>\n",
       "      <th>cfips</th>\n",
       "      <th>county</th>\n",
       "      <th>state</th>\n",
       "      <th>first_day_of_month</th>\n",
       "      <th>microbusiness_density</th>\n",
       "      <th>active</th>\n",
       "    </tr>\n",
       "  </thead>\n",
       "  <tbody>\n",
       "    <tr>\n",
       "      <th>0</th>\n",
       "      <td>1001_2019-08-01</td>\n",
       "      <td>1001</td>\n",
       "      <td>Autauga County</td>\n",
       "      <td>Alabama</td>\n",
       "      <td>2019-08-01</td>\n",
       "      <td>3.007682</td>\n",
       "      <td>1249</td>\n",
       "    </tr>\n",
       "    <tr>\n",
       "      <th>1</th>\n",
       "      <td>1001_2019-09-01</td>\n",
       "      <td>1001</td>\n",
       "      <td>Autauga County</td>\n",
       "      <td>Alabama</td>\n",
       "      <td>2019-09-01</td>\n",
       "      <td>2.884870</td>\n",
       "      <td>1198</td>\n",
       "    </tr>\n",
       "    <tr>\n",
       "      <th>2</th>\n",
       "      <td>1001_2019-10-01</td>\n",
       "      <td>1001</td>\n",
       "      <td>Autauga County</td>\n",
       "      <td>Alabama</td>\n",
       "      <td>2019-10-01</td>\n",
       "      <td>3.055843</td>\n",
       "      <td>1269</td>\n",
       "    </tr>\n",
       "    <tr>\n",
       "      <th>3</th>\n",
       "      <td>1001_2019-11-01</td>\n",
       "      <td>1001</td>\n",
       "      <td>Autauga County</td>\n",
       "      <td>Alabama</td>\n",
       "      <td>2019-11-01</td>\n",
       "      <td>2.993233</td>\n",
       "      <td>1243</td>\n",
       "    </tr>\n",
       "    <tr>\n",
       "      <th>4</th>\n",
       "      <td>1001_2019-12-01</td>\n",
       "      <td>1001</td>\n",
       "      <td>Autauga County</td>\n",
       "      <td>Alabama</td>\n",
       "      <td>2019-12-01</td>\n",
       "      <td>2.993233</td>\n",
       "      <td>1243</td>\n",
       "    </tr>\n",
       "  </tbody>\n",
       "</table>\n",
       "</div>"
      ],
      "text/plain": [
       "            row_id  cfips          county    state first_day_of_month  \\\n",
       "0  1001_2019-08-01   1001  Autauga County  Alabama         2019-08-01   \n",
       "1  1001_2019-09-01   1001  Autauga County  Alabama         2019-09-01   \n",
       "2  1001_2019-10-01   1001  Autauga County  Alabama         2019-10-01   \n",
       "3  1001_2019-11-01   1001  Autauga County  Alabama         2019-11-01   \n",
       "4  1001_2019-12-01   1001  Autauga County  Alabama         2019-12-01   \n",
       "\n",
       "   microbusiness_density  active  \n",
       "0               3.007682    1249  \n",
       "1               2.884870    1198  \n",
       "2               3.055843    1269  \n",
       "3               2.993233    1243  \n",
       "4               2.993233    1243  "
      ]
     },
     "execution_count": 4,
     "metadata": {},
     "output_type": "execute_result"
    }
   ],
   "source": [
    "train.head()"
   ]
  },
  {
   "cell_type": "code",
   "execution_count": 5,
   "id": "7fc0ba8d",
   "metadata": {
    "execution": {
     "iopub.execute_input": "2023-01-20T22:55:50.774377Z",
     "iopub.status.busy": "2023-01-20T22:55:50.772248Z",
     "iopub.status.idle": "2023-01-20T22:55:50.783456Z",
     "shell.execute_reply": "2023-01-20T22:55:50.782237Z"
    },
    "papermill": {
     "duration": 0.018816,
     "end_time": "2023-01-20T22:55:50.785968",
     "exception": false,
     "start_time": "2023-01-20T22:55:50.767152",
     "status": "completed"
    },
    "tags": []
   },
   "outputs": [
    {
     "data": {
      "text/plain": [
       "3135"
      ]
     },
     "execution_count": 5,
     "metadata": {},
     "output_type": "execute_result"
    }
   ],
   "source": [
    "train.cfips.nunique()"
   ]
  },
  {
   "cell_type": "code",
   "execution_count": 6,
   "id": "4ebe09e1",
   "metadata": {
    "execution": {
     "iopub.execute_input": "2023-01-20T22:55:50.796749Z",
     "iopub.status.busy": "2023-01-20T22:55:50.795989Z",
     "iopub.status.idle": "2023-01-20T22:55:50.829430Z",
     "shell.execute_reply": "2023-01-20T22:55:50.828130Z"
    },
    "papermill": {
     "duration": 0.0419,
     "end_time": "2023-01-20T22:55:50.832502",
     "exception": false,
     "start_time": "2023-01-20T22:55:50.790602",
     "status": "completed"
    },
    "tags": []
   },
   "outputs": [],
   "source": [
    "train['first_day_of_month'] = pd.to_datetime(train['first_day_of_month'])\n",
    "test['first_day_of_month'] = pd.to_datetime(test['first_day_of_month'])"
   ]
  },
  {
   "cell_type": "code",
   "execution_count": 7,
   "id": "6242df7a",
   "metadata": {
    "execution": {
     "iopub.execute_input": "2023-01-20T22:55:50.843033Z",
     "iopub.status.busy": "2023-01-20T22:55:50.842609Z",
     "iopub.status.idle": "2023-01-20T22:55:50.849540Z",
     "shell.execute_reply": "2023-01-20T22:55:50.848317Z"
    },
    "papermill": {
     "duration": 0.015491,
     "end_time": "2023-01-20T22:55:50.852230",
     "exception": false,
     "start_time": "2023-01-20T22:55:50.836739",
     "status": "completed"
    },
    "tags": []
   },
   "outputs": [
    {
     "name": "stdout",
     "output_type": "stream",
     "text": [
      "Number of siries in train: 39.\n",
      "Number of siries in test: 8.\n"
     ]
    }
   ],
   "source": [
    "THRESHOLD = 8\n",
    "ACTIVE_THRESHOLD = 300\n",
    "TRAIN_SIZE = len(train) // 3135\n",
    "TEST_SIZE = len(test) // 3135\n",
    "print(\"Number of siries in train: {}.\".format(TRAIN_SIZE))\n",
    "print(\"Number of siries in test: {}.\".format(TEST_SIZE))"
   ]
  },
  {
   "cell_type": "code",
   "execution_count": 8,
   "id": "d18b015f",
   "metadata": {
    "execution": {
     "iopub.execute_input": "2023-01-20T22:55:50.863859Z",
     "iopub.status.busy": "2023-01-20T22:55:50.862719Z",
     "iopub.status.idle": "2023-01-20T22:55:55.759738Z",
     "shell.execute_reply": "2023-01-20T22:55:55.758674Z"
    },
    "papermill": {
     "duration": 4.906016,
     "end_time": "2023-01-20T22:55:55.762678",
     "exception": false,
     "start_time": "2023-01-20T22:55:50.856662",
     "status": "completed"
    },
    "tags": []
   },
   "outputs": [],
   "source": [
    "ids = train.cfips.unique()\n",
    "\n",
    "x_train = np.arange(TRAIN_SIZE).reshape((-1, 1))\n",
    "x_test = np.arange(TRAIN_SIZE-1, TRAIN_SIZE+TEST_SIZE).reshape((-1, 1))\n",
    "\n",
    "linear_preds = np.zeros(len(ids))\n",
    "last_preds = np.zeros(len(ids))\n",
    "seasonal_preds = np.zeros(len(ids))\n",
    "\n",
    "sn_trend = 0\n",
    "lin_trend = 0\n",
    "ct = 0\n",
    "for i, c in enumerate(ids):\n",
    "    df = train.loc[train.cfips == c]\n",
    "    \n",
    "    last = df.microbusiness_density.values[-1]\n",
    "    active = df.active.values[-1]\n",
    "    last_preds[i] = last\n",
    "    \n",
    "    model = LinearRegression()\n",
    "    model.fit(x_train, df.microbusiness_density.values)\n",
    "    prediction = model.predict(x_train)\n",
    "    loss = prediction - df.microbusiness_density.values\n",
    "    rng = df.microbusiness_density.max() - df.microbusiness_density.min()\n",
    "    \n",
    "    s = 0\n",
    "    for k in range(TRAIN_SIZE):\n",
    "        e = np.abs(loss[k])\n",
    "        r = e / (rng/2)\n",
    "        s += r\n",
    "    if s > THRESHOLD or active < ACTIVE_THRESHOLD:\n",
    "        linear_preds[i] = last\n",
    "    else:\n",
    "        test_prediction = model.predict(x_test)\n",
    "        shift = last - test_prediction[0]\n",
    "        linear_preds[i] = test_prediction[1] + shift\n",
    "        lin_trend += 1\n",
    "        \n",
    "final_preds = (linear_preds + last_preds) / 2 "
   ]
  },
  {
   "cell_type": "code",
   "execution_count": 9,
   "id": "55042c71",
   "metadata": {
    "execution": {
     "iopub.execute_input": "2023-01-20T22:55:55.774153Z",
     "iopub.status.busy": "2023-01-20T22:55:55.773295Z",
     "iopub.status.idle": "2023-01-20T22:55:55.780954Z",
     "shell.execute_reply": "2023-01-20T22:55:55.779631Z"
    },
    "papermill": {
     "duration": 0.015854,
     "end_time": "2023-01-20T22:55:55.783505",
     "exception": false,
     "start_time": "2023-01-20T22:55:55.767651",
     "status": "completed"
    },
    "tags": []
   },
   "outputs": [],
   "source": [
    "target = pd.DataFrame(data={\"microbusiness_density\": final_preds}, index=ids)"
   ]
  },
  {
   "cell_type": "code",
   "execution_count": 10,
   "id": "d0c13a5f",
   "metadata": {
    "execution": {
     "iopub.execute_input": "2023-01-20T22:55:55.794411Z",
     "iopub.status.busy": "2023-01-20T22:55:55.793991Z",
     "iopub.status.idle": "2023-01-20T22:55:55.811235Z",
     "shell.execute_reply": "2023-01-20T22:55:55.810233Z"
    },
    "papermill": {
     "duration": 0.025928,
     "end_time": "2023-01-20T22:55:55.813887",
     "exception": false,
     "start_time": "2023-01-20T22:55:55.787959",
     "status": "completed"
    },
    "tags": []
   },
   "outputs": [],
   "source": [
    "test = test.join(target, on='cfips')[['row_id', 'microbusiness_density']]"
   ]
  },
  {
   "cell_type": "code",
   "execution_count": 11,
   "id": "fabbf49f",
   "metadata": {
    "execution": {
     "iopub.execute_input": "2023-01-20T22:55:55.824843Z",
     "iopub.status.busy": "2023-01-20T22:55:55.824153Z",
     "iopub.status.idle": "2023-01-20T22:55:55.888666Z",
     "shell.execute_reply": "2023-01-20T22:55:55.887413Z"
    },
    "papermill": {
     "duration": 0.073064,
     "end_time": "2023-01-20T22:55:55.891366",
     "exception": false,
     "start_time": "2023-01-20T22:55:55.818302",
     "status": "completed"
    },
    "tags": []
   },
   "outputs": [
    {
     "data": {
      "text/html": [
       "<div>\n",
       "<style scoped>\n",
       "    .dataframe tbody tr th:only-of-type {\n",
       "        vertical-align: middle;\n",
       "    }\n",
       "\n",
       "    .dataframe tbody tr th {\n",
       "        vertical-align: top;\n",
       "    }\n",
       "\n",
       "    .dataframe thead th {\n",
       "        text-align: right;\n",
       "    }\n",
       "</style>\n",
       "<table border=\"1\" class=\"dataframe\">\n",
       "  <thead>\n",
       "    <tr style=\"text-align: right;\">\n",
       "      <th></th>\n",
       "      <th>row_id</th>\n",
       "      <th>microbusiness_density</th>\n",
       "    </tr>\n",
       "  </thead>\n",
       "  <tbody>\n",
       "    <tr>\n",
       "      <th>0</th>\n",
       "      <td>1001_2022-11-01</td>\n",
       "      <td>3.470458</td>\n",
       "    </tr>\n",
       "    <tr>\n",
       "      <th>1</th>\n",
       "      <td>1003_2022-11-01</td>\n",
       "      <td>8.359798</td>\n",
       "    </tr>\n",
       "    <tr>\n",
       "      <th>2</th>\n",
       "      <td>1005_2022-11-01</td>\n",
       "      <td>1.232074</td>\n",
       "    </tr>\n",
       "    <tr>\n",
       "      <th>3</th>\n",
       "      <td>1007_2022-11-01</td>\n",
       "      <td>1.287240</td>\n",
       "    </tr>\n",
       "    <tr>\n",
       "      <th>4</th>\n",
       "      <td>1009_2022-11-01</td>\n",
       "      <td>1.835877</td>\n",
       "    </tr>\n",
       "  </tbody>\n",
       "</table>\n",
       "</div>"
      ],
      "text/plain": [
       "            row_id  microbusiness_density\n",
       "0  1001_2022-11-01               3.470458\n",
       "1  1003_2022-11-01               8.359798\n",
       "2  1005_2022-11-01               1.232074\n",
       "3  1007_2022-11-01               1.287240\n",
       "4  1009_2022-11-01               1.835877"
      ]
     },
     "execution_count": 11,
     "metadata": {},
     "output_type": "execute_result"
    }
   ],
   "source": [
    "test.to_csv(\"submission.csv\", index=False)\n",
    "test.head()"
   ]
  },
  {
   "cell_type": "code",
   "execution_count": null,
   "id": "8dee21ed",
   "metadata": {
    "papermill": {
     "duration": 0.004197,
     "end_time": "2023-01-20T22:55:55.900085",
     "exception": false,
     "start_time": "2023-01-20T22:55:55.895888",
     "status": "completed"
    },
    "tags": []
   },
   "outputs": [],
   "source": []
  }
 ],
 "metadata": {
  "kernelspec": {
   "display_name": "Python 3",
   "language": "python",
   "name": "python3"
  },
  "language_info": {
   "codemirror_mode": {
    "name": "ipython",
    "version": 3
   },
   "file_extension": ".py",
   "mimetype": "text/x-python",
   "name": "python",
   "nbconvert_exporter": "python",
   "pygments_lexer": "ipython3",
   "version": "3.7.12"
  },
  "papermill": {
   "default_parameters": {},
   "duration": 16.329528,
   "end_time": "2023-01-20T22:55:56.625576",
   "environment_variables": {},
   "exception": null,
   "input_path": "__notebook__.ipynb",
   "output_path": "__notebook__.ipynb",
   "parameters": {},
   "start_time": "2023-01-20T22:55:40.296048",
   "version": "2.3.4"
  }
 },
 "nbformat": 4,
 "nbformat_minor": 5
}
